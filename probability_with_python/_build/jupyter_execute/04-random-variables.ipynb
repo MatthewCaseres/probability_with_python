{
 "cells": [
  {
   "cell_type": "markdown",
   "metadata": {},
   "source": [
    "# Random Variables\n",
    "\n",
    "## What is a Random Variable\n",
    "\n",
    "Suppose we flip a coin twice, the sample space $S = \\{HH, HT, TH, TT\\}$ is the set of all possible outcomes.\n",
    "\n",
    "We can define a function $X$ on the sample space that takes $s \\in S$ and returns the number of heads in $s$.\n",
    "\n",
    "![](images/04-RV/XIsAFunction.PNG)\n",
    "\n",
    "A sort of confusing example is tomorrow's temperature is a random variable. The set of possible temperatures measures in degrees farenheit is the sample space $S$. Our random variable is a function that sends a temperature in degrees farenheit to the real number that represents the temperature.\n",
    "\n",
    "![](images/04-RV/temperatures.PNG)\n",
    "\n",
    "Again, $X$ is a function on the sample space that maps to the real numbers. It is just a very simple function , $y=x$.\n",
    "\n",
    "Students can get confused about random variables because often the random variable is very simple, like $y=x$. The student then begins to overgeneralize and confuse random variables with sample spaces."
   ]
  },
  {
   "cell_type": "code",
   "execution_count": 1,
   "metadata": {},
   "outputs": [
    {
     "name": "stdout",
     "output_type": "stream",
     "text": [
      "Version 1:  4\n",
      "Version 2:  4\n"
     ]
    }
   ],
   "source": [
    "def X1(coinFlips: str) -> int:\n",
    "  \"\"\"\n",
    "  This function takes a string of coin flips and returns the number of heads.\n",
    "  \"\"\"\n",
    "  heads = 0\n",
    "  for flip in coinFlips:\n",
    "    if flip == \"H\":\n",
    "      heads += 1\n",
    "  return heads\n",
    "\n",
    "# Or we can do it in one line\n",
    "X2 = lambda coinFlips: sum(flip == \"H\"  for flip in coinFlips)\n",
    "\n",
    "print(\"Version 1: \", X1(\"HHHTTH\"))\n",
    "print(\"Version 2: \", X2(\"HHHTTH\"))"
   ]
  },
  {
   "cell_type": "markdown",
   "metadata": {},
   "source": [
    "## Probability distribution functions (PDFs)\n",
    "\n",
    "### Probability of an outcome\n",
    "\n",
    "We can calculate the probability of a random variable $X$ taking a particular value.\n",
    "\n",
    "Flipping a coin twice gives $S=\\{HH,HT,TH,TT\\}$. Let $s \\in S$, and $X$ is the random variable for the number of heads. $X(s) = 1$ when $s \\in \\{HT,TH\\}$. To calculate the probability of $X(s) = 1$:\n",
    "\n",
    "$$P(X(s)=1)=P(\\{HT,TH\\})=\\frac{1}{2}$$\n",
    "\n",
    "Even though $X$ is a function we usually don't write it as such. Instead of saying $X(s)=1$ we usually just write $X=1$ and it is understood that $X$ is a function. In our previous example we could rewrite it as $P(X=1)=P(\\{HT,TH\\})=\\frac{1}{2}$."
   ]
  },
  {
   "cell_type": "markdown",
   "metadata": {},
   "source": [
    "### Probability Mass Function Definition\n",
    "\n",
    "It is common to calculate the probability of a random variable being a value $x$, $P(X=x)$. It is so common that we call it a \"probability mass function\" (abbreviated **PMF**) and give it special notation.\n",
    "\n",
    "***\n",
    "\n",
    "The probability mass function calculates $P(X=x)$. There is a special way to write this, instead of using a capital $P$ we use a lowercase $p$ and say that:\n",
    "\n",
    "$$p(x)=P(X = x)$$\n",
    "  \n",
    "Some properties of the probability mass function are that the probability of an outcome is between 0 and 1, and that the sum of the probability of all possible outcomes is 1:\n",
    "\n",
    "For $x \\in S$\n",
    "  \n",
    "* $0 \\leq p(x) \\leq 1$\n",
    "* $\\sum p(x)=1$\n",
    "\n",
    "***\n",
    "\n",
    "The probability mass function for the count of heads in two coin flips is:\n",
    "\n",
    "|x| <span style=\"font-weight:normal\">0</span> | <span style=\"font-weight:normal\">1</span> | <span style=\"font-weight:normal\">2</span> |\n",
    "|:---------------------------------------------:| - | - | - | \n",
    "|              **p(x)**                  | .25 | .5 | .25 |"
   ]
  },
  {
   "cell_type": "markdown",
   "metadata": {},
   "source": [
    "## Cumulative Distribution Functions (CDFs)\n",
    "\n",
    "Again we are flipping the coin twice and counting the heads. We can calculate $P(X \\leq 1) = p(0)+p(1) = .25+.5=.75$. Calculations of this sort are very common, and we call them **cumulative distribution functions (CDFs)**. There is a special notation for this.\n",
    "\n",
    "***\n",
    "The cumulative distribution function calculates $P(X \\leq x)$. There is a special way to write this:\n",
    "\n",
    "$$F(x)=P(X \\leq x)$$\n",
    "  \n",
    "We can calculate the cumulative distribution function by summing the probability mass function:\n",
    "\n",
    "$$F(x_0) = \\displaystyle\\sum_{x \\leq x_0} p(x)$$\n",
    "\n",
    "***\n",
    "\n",
    "We calculate the cumulative distribution function for our coin flipping example, see that the CDF is the cumulative sum of the PDF.\n",
    "\n",
    "|x| <span style=\"font-weight:normal\">0</span> | <span style=\"font-weight:normal\">1</span> | <span style=\"font-weight:normal\">2</span> |\n",
    "|:---------------------------------------------:| - | - | - | \n",
    "|              **p(x)**                  | .25 | .5 | .25 |\n",
    "|              **F(x)**                  | .25 | .75 | 1 |\n",
    "\n",
    "In the above table we only define the CDF at points $0,1,2$ but we can also calculate the CDF at $.5$. \n",
    "\n",
    "$$F(.5)=P(X \\leq .5) = \\displaystyle\\sum_{x \\leq .5} p(x) = p(0) = .25$$\n",
    "\n",
    "The CDF only changes at values where there are outcomes that happen with some probability. Understand why the graph below looks the way it does.\n",
    "\n",
    "![](images/04-RV/CDFPlot.PNG)"
   ]
  },
  {
   "cell_type": "markdown",
   "metadata": {},
   "source": [
    "## Discrete vs. Continuous Random Variables\n",
    "\n",
    "So far we have only talked about flipping coins. When I flip a coin twice the only possible numbers for the heads are $\\{0,1,2\\}$. This is an example of a **discrete random variable**. Discrete means that only certain numbers are possible. Plotting the possible outcomes on a number line yields a series of points. \n",
    "\n",
    "![](./images/04-RV/discrete.PNG)\n",
    "\n",
    "Some random variables are **continuous**. This means that the outcomes are intervals instead of points. The height of a person is continuous, they could be 5.983732... feet tall. Any number is possible.\n",
    "\n",
    "![](./images/04-RV/continuous.PNG)\n",
    "\n",
    "\n",
    "Some random variables are continuous and discrete **mixed** together. If my speakers volume knob must be between $0$ and $2$ then often my speakers will often be turned to exactly $0$ (no sound) or $2$ (max sound). If the volume knob is somewhere between $0$ and $2$ it could be turned to any number, like 1.5543..., so the volume knob is a mixture of discrete and continuous.\n",
    "\n",
    "![](./images/04-RV/mixed.PNG)\n",
    "\n",
    "### Mixed distributions in depth\n",
    "\n",
    "In the volume knob example the possible outcomes come from the interval $[0,2]$. What about it exactly is mixed? In the CDF there is a jump at $0$ because $P(X \\leq -.01)=0$ but $P(X \\leq 0) = P(\\text{The volume is 0})$\n",
    "\n",
    "![](./images/04-RV/mixedplot.PNG)\n",
    "\n",
    "Discrete distributions don't increase smoothly over an interval, but continuous distributions do. If we randomly draw a number from the interval $[0,1]$ The CDF smoothly increases from $0$ to $1$.\n",
    "\n",
    "![](./images/04-RV/continuousplot.PNG)\n",
    "\n",
    "The CDF jumps at a point $x$ when $P(X=x)$ is nonzero, consider our volume knob or coin flipping examples. A randomly selected number from $[0,1]$ is **exactly** $.5$ with probability $0$, so the continuous random variable has no jumps (but does have an upward slope). There are infinitely many numbers in $[0,1]$ and $.5$ is only one of these infinitely many numbers. From our formula for equally likely outcomes:\n",
    "\n",
    "$$\\frac{\\text{Number of Selected Outcomes}}{\\text{Number of Total Outcomes}}=\\frac{1}{\\infty}=0$$\n",
    "\n",
    "Continuous distributions use calculus to calculate the CDF, discussed in a later chapter.\n"
   ]
  }
 ],
 "metadata": {
  "interpreter": {
   "hash": "e078b65246bddf23fe80e9015d01852bc21b7ba282a85daeab1bb9d0b2217f28"
  },
  "kernelspec": {
   "display_name": "Python 3.9.7 64-bit ('probability-with-python-MkUINhBm-py3.9': poetry)",
   "name": "python3"
  },
  "language_info": {
   "codemirror_mode": {
    "name": "ipython",
    "version": 3
   },
   "file_extension": ".py",
   "mimetype": "text/x-python",
   "name": "python",
   "nbconvert_exporter": "python",
   "pygments_lexer": "ipython3",
   "version": "3.9.7"
  }
 },
 "nbformat": 4,
 "nbformat_minor": 2
}