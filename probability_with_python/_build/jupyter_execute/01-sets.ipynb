{
 "cells": [
  {
   "cell_type": "markdown",
   "metadata": {},
   "source": [
    "# An Introduction to Set Theory\n",
    "\n",
    "## Sets and elements\n",
    "\n",
    "Sets are collections of objects. In math we wrap the set in curly braces and separate elements with commas, here is a set with three numbers $\\{1,2,4\\}$. We often name sets with a capital letter like $A=\\{1,2,4\\}$. \n",
    "\n",
    "Things in the set are called **elements** of the set. The symbol $\\in$ means \"is an element of the set\". So $1 \\in \\{1,2,4\\}$. We put a slash through the symbol if it isn't an element of the set, so $3 \\not\\in \\{1,2,4\\}$. Let's see how this works in Python."
   ]
  },
  {
   "cell_type": "code",
   "execution_count": 1,
   "metadata": {},
   "outputs": [
    {
     "name": "stdout",
     "output_type": "stream",
     "text": [
      "Our set is {1, 2}\n",
      "1 is in A? True\n",
      "3 is in A? False\n",
      "{1, 2}\n"
     ]
    }
   ],
   "source": [
    "# Make a set A = {1,2}\n",
    "A = {1,2}\n",
    "# The strings are formatted using \"f-strings\"\n",
    "print(f\"Our set is {A}\")\n",
    "print(f\"1 is in A? {1 in A}\")\n",
    "print(f\"3 is in A? {3 in A}\")\n",
    "# We can also construct sets from other \"iterables\" like lists using the set() function\n",
    "print(set([1,2]))"
   ]
  },
  {
   "cell_type": "markdown",
   "metadata": {},
   "source": [
    "### Set-builder notation\n",
    "\n",
    "Sometimes we want to specify an infinite set like the even numbers. We might write this as $\\{2,4,6,8,...\\}$ and most people will understand. **Set-builder notation** writes it as $\\{x | x \\text{ is   an   even number}\\}$. This is pronounced \"the set of x where x is an even number\".\n",
    "\n",
    "We could say $\\{x|x \\text{ is a solution to } x^3 - 5x^2 - 2x + 10 = 0\\}$ if we are having trouble finding the solutions of $x^3 - 5x^2 - 2x + 10 = 0$. The solutions are $\\{-\\sqrt{2},\\sqrt{2},5\\}$, so \n",
    "\n",
    "$$\\{-\\sqrt{2},\\sqrt{2},5\\} =\\{x|x \\text{ is a solution to } x^3 - 5x^2 - 2x + 10 = 0\\}$$\n",
    "\n",
    "But what does it mean for sets to be equal?"
   ]
  },
  {
   "cell_type": "markdown",
   "metadata": {},
   "source": [
    "## Set equality and subsets\n",
    "\n",
    "### Equality\n",
    "\n",
    "Sets are equal when they have the same elements, **order doesn't matter**. \n",
    "\n",
    "$$\\{1,2\\} = \\{2,1\\}$$\n",
    "\n",
    "Also $\\{1,1,2\\} = \\{1,2\\}$, but since duplicate elements are redundant we say that **sets don't have duplicate elements**."
   ]
  },
  {
   "cell_type": "code",
   "execution_count": 2,
   "metadata": {},
   "outputs": [
    {
     "name": "stdout",
     "output_type": "stream",
     "text": [
      "True\n",
      "True\n"
     ]
    }
   ],
   "source": [
    "print({1,2} == {2,1})\n",
    "print({1,1,2} == {1,2})\n"
   ]
  },
  {
   "cell_type": "markdown",
   "metadata": {},
   "source": [
    "### Subsets\n",
    "\n",
    "$A \\subseteq B$ is pronounced \"A is a **subset** of B\" and it means that everything in A is also in B. For example $\\{1,2\\} \\subseteq \\{1,2,3\\}$. Sets are considered subsets of themselves so $\\{1,2\\} \\subseteq \\{1,2\\}$.\n",
    "\n",
    "$\\{1,2,3\\} \\supseteq \\{1,2\\}$ is pronounced \"$B$ is a **superset** of $A$\".\n",
    "\n",
    "If sets are subsets of eachother, they are equal. More formally, if $A \\subseteq B$ and $B \\subseteq A$ then $A = B$. Consider why this is true. This technique is commonly used in proofs of set equality."
   ]
  },
  {
   "cell_type": "code",
   "execution_count": 3,
   "metadata": {},
   "outputs": [
    {
     "name": "stdout",
     "output_type": "stream",
     "text": [
      "A is a subset of B? True\n",
      "B is a subset of A? False\n",
      "B is a subset of A? True\n"
     ]
    }
   ],
   "source": [
    "A = {1,2}\n",
    "B = {1,2,3}\n",
    "print(f\"A is a subset of B? {A.issubset(B)}\")\n",
    "print(f\"B is a subset of A? {B.issubset(A)}\")\n",
    "print(f\"B is a subset of A? {B.issuperset(A)}\")"
   ]
  },
  {
   "cell_type": "markdown",
   "metadata": {},
   "source": [
    "## Venn Diagrams and Set Operations\n",
    "\n",
    "Let's define some sets before we talk about how to visualize them with **venn diagrams** and combine them with **set operations**."
   ]
  },
  {
   "cell_type": "code",
   "execution_count": 4,
   "metadata": {},
   "outputs": [],
   "source": [
    "S = {1,2,3,4,5,6,7,8,9,10}\n",
    "A = {1,3,5,7}\n",
    "B = {2,3,4,5}"
   ]
  },
  {
   "cell_type": "markdown",
   "metadata": {},
   "source": [
    "\n",
    "### Venn Diagrams\n",
    "\n",
    "In a Venn Diagram each set is represented by a circle. The set $S$ is represented by a black box, think of it as the universe containing all things.\n",
    "\n",
    "![](./images/01-sets/Venn.png)\n",
    "\n",
    "### Union\n",
    "\n",
    "$A \\cup B$ is \"$A$ union $B$\". The union of two sets is the set of all elements that are in either set (or in both sets).\n",
    "\n",
    "![](./images/01-sets/AUB.PNG)"
   ]
  },
  {
   "cell_type": "code",
   "execution_count": 5,
   "metadata": {},
   "outputs": [
    {
     "data": {
      "text/plain": [
       "{1, 2, 3, 4, 5, 7}"
      ]
     },
     "execution_count": 5,
     "metadata": {},
     "output_type": "execute_result"
    }
   ],
   "source": [
    "A.union(B)"
   ]
  },
  {
   "cell_type": "markdown",
   "metadata": {},
   "source": [
    "### Intersection\n",
    "\n",
    "$A \\cap B$ is \"$A$ intersect $B$\". Elements in the intersection must belong to both sets $A$ and $B$.\n",
    "\n",
    "![](./images/01-sets/AcapB.PNG)"
   ]
  },
  {
   "cell_type": "code",
   "execution_count": 6,
   "metadata": {},
   "outputs": [
    {
     "data": {
      "text/plain": [
       "{3, 5}"
      ]
     },
     "execution_count": 6,
     "metadata": {},
     "output_type": "execute_result"
    }
   ],
   "source": [
    "A.intersection(B)"
   ]
  },
  {
   "cell_type": "markdown",
   "metadata": {},
   "source": [
    "### Difference\n",
    "\n",
    "$A-B$ is the difference of $A$ and $B$ and is set of all elements that are in $A$ but not in $B$. It can also be written $A \\backslash B$.\n",
    "\n",
    "![](./images/01-sets/A-B.PNG)"
   ]
  },
  {
   "cell_type": "code",
   "execution_count": 7,
   "metadata": {},
   "outputs": [
    {
     "data": {
      "text/plain": [
       "{1, 7}"
      ]
     },
     "execution_count": 7,
     "metadata": {},
     "output_type": "execute_result"
    }
   ],
   "source": [
    "# The complement of set A\n",
    "A.difference(B)"
   ]
  },
  {
   "cell_type": "markdown",
   "metadata": {},
   "source": [
    "### Complement\n",
    "$A^C$ is \"the complement of $A$\". The complement of a set is all elements that are not in the set. This is relative to our \"universe\" of possible elements $S$.\n",
    "\n",
    "![](./images/01-sets/AC.PNG)"
   ]
  },
  {
   "cell_type": "code",
   "execution_count": 8,
   "metadata": {},
   "outputs": [
    {
     "data": {
      "text/plain": [
       "{2, 4, 6, 8, 9, 10}"
      ]
     },
     "execution_count": 8,
     "metadata": {},
     "output_type": "execute_result"
    }
   ],
   "source": [
    "# Python doesn't have a \"complement\" function on sets. You just take the \"universal set\" S and subtract A from it.\n",
    "S.difference(A)"
   ]
  },
  {
   "cell_type": "markdown",
   "metadata": {},
   "source": [
    "## Sample Space and Empty Set\n",
    "\n",
    "The **sample space** $S$ is the set of all possible elements. In probability there are different outcomes to experiments, and the sample space typically represents all possible outcomes. So when flipping coins the sample space is $\\{H,T\\}$. There are some identities for the sample space.\n",
    "\n",
    "$$A \\cup S = S$$\n",
    "$$A \\cap S = A$$"
   ]
  },
  {
   "cell_type": "code",
   "execution_count": 9,
   "metadata": {},
   "outputs": [
    {
     "name": "stdout",
     "output_type": "stream",
     "text": [
      "{1, 2, 3, 4, 5, 6, 7, 8, 9, 10} == {1, 2, 3, 4, 5, 6, 7, 8, 9, 10}\n",
      "{1, 3, 5, 7} == {1, 3, 5, 7}\n"
     ]
    }
   ],
   "source": [
    "print(f\"{S} == {A.union(S)}\")\n",
    "print(f\"{A} == {A.intersection(S)}\")"
   ]
  },
  {
   "cell_type": "markdown",
   "metadata": {},
   "source": [
    "## De Morgan's Laws\n",
    "\n",
    "De Morgan's laws are formulas for the complement of a union or intersection of sets.\n",
    "\n",
    "$$(A \\cap B)^C = A^C \\cup B^C \\\\\n",
    "(A \\cup B)^C = A^C \\cap B^C$$\n",
    "\n",
    "One way of memorizing these formulas is that you bring the complement inside the parentheses to both sets and flip the union or intersection upside down.\n",
    "\n",
    "Let's see if these laws make any sense. Let $T$ be the set of tennis players and $H$ be the set of hockey players. $(T \\cap H)^C$ is the set of people that don't play both tennis and hockey. $T^C \\cup H^C$ is people that don't play tennis or they don't play hockey. If I don't play both sports then I either don't play tennis or I don't play hockey, so $(T \\cap H)^C \\subseteq T^C \\cup H^C$. If I don't play tennis or I don't play hockey then it is true that I don't play both sports, so $T^C \\cup H^C \\subseteq (T \\cap H)^C$. This means that the sets are equal, ponder this for some time. A similar argument can be made for the complement of the union. If this is not convincing spend some time with a Venn diagram and see if you can get it to make sense."
   ]
  },
  {
   "cell_type": "markdown",
   "metadata": {},
   "source": [
    "## 3 or More Sets\n",
    "\n",
    "### Associativity\n",
    "You can take the intersection or union of more than two sets.\n",
    "\n",
    "$$\\{1,2\\} \\cap \\{2,3\\} \\cap \\{3,4\\} = \\emptyset$$ \n",
    "\n",
    "There are no elements in the intersection of these three sets because no number appears in all three sets, so this is the empty set. \n",
    "\n",
    "Intersections are associative, meaning it doesn't matter what order you take them in. This is also true of unions.\n",
    "\n",
    "$$(A \\cap B) \\cap C= A \\cap (B \\cap C)$$ \n",
    "$$(A \\cup B) \\cup C= A \\cup (B \\cup C)$$\n",
    "\n",
    "### Distributive Property\n",
    "\n",
    "If you mix together unions and intersections in an expression it isn't associative.\n",
    "\n",
    "$$A \\cap (B \\cup C) \\not= (A \\cap B) \\cup C$$ \n",
    "\n",
    "But the distributive property is true of intersections and unions. \n",
    "\n",
    "$$A \\cap (B \\cup C) = (A \\cap B) \\cup (A \\cap C) \\\\\n",
    " A \\cup (B \\cap C) = (A \\cup B) \\cap (A \\cup C)$$ \n",
    "\n",
    "It is easier to remember these distributive formulas by comparing them to the way multiplication distributes over addition. $a(b+c)=ab+ac$. Just pretend that the multiplication is an intersection and the addition is a union.\n",
    "\n",
    "### Messy Venn Diagrams\n",
    "You can draw a Venn diagram for three sets with three circles. It gets a little complicated. I wouldn't bother drawing a Venn diagram for 4 sets.\n",
    "\n",
    "![](./images/01-sets/Venn3.PNG)\n",
    "![](./images/01-sets/Venn4.PNG)"
   ]
  }
 ],
 "metadata": {
  "interpreter": {
   "hash": "e078b65246bddf23fe80e9015d01852bc21b7ba282a85daeab1bb9d0b2217f28"
  },
  "kernelspec": {
   "display_name": "Python 3.9.7 64-bit ('probability-with-python-MkUINhBm-py3.9': poetry)",
   "name": "python3"
  },
  "language_info": {
   "codemirror_mode": {
    "name": "ipython",
    "version": 3
   },
   "file_extension": ".py",
   "mimetype": "text/x-python",
   "name": "python",
   "nbconvert_exporter": "python",
   "pygments_lexer": "ipython3",
   "version": "3.9.7"
  }
 },
 "nbformat": 4,
 "nbformat_minor": 2
}