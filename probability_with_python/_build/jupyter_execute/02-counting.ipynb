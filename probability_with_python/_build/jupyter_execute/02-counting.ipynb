{
 "cells": [
  {
   "cell_type": "markdown",
   "metadata": {},
   "source": [
    "# Counting\n",
    "\n",
    "## Size of a set\n",
    "\n",
    "The set $A = \\{5,6\\}$ has two elements. The is notation for this is $n(A) = 2$. $n$ is a function that takes a set and outputs the number of elements in it: \n",
    "\n",
    "$$n: \\text{Sets} \\to \\text{Whole Numbers}$$\n",
    "\n",
    "Let the sample space be $S = \\{1,2,3,4,5,6\\}$. Since $A=\\{5,6\\}$, $A^C= \\{1,2,3,4\\}$ and $n(A^C)=4$. There is a formula for the size of the complement.\n",
    "\n",
    "$$n(A^C) = n(S) - n(A)=6-2=4$$ \n",
    "\n",
    "The size of the complement of a set is the size of the sample space minus the size of the set. "
   ]
  },
  {
   "cell_type": "code",
   "execution_count": 1,
   "metadata": {},
   "outputs": [
    {
     "name": "stdout",
     "output_type": "stream",
     "text": [
      "The length of S is 6\n",
      "len(S-A) = len(S) - len(A)? True\n",
      "If B is not a subset of S does it still work? False\n"
     ]
    }
   ],
   "source": [
    "S = {1,2,3,4,5,6}\n",
    "A = {5,6}\n",
    "# Use len() to take the size of a set\n",
    "print(f\"The length of S is {len(S)}\")\n",
    "print(f\"len(S-A) = len(S) - len(A)? {len(S.difference(A)) == len(S) - len(A)}\")\n",
    "# This isn't true in general, only when S is the sample space.\n",
    "B = {10, 12}\n",
    "print(f\"If B is not a subset of S does it still work? {len(S.difference(B)) == len(S) - len(B)}\")\n"
   ]
  },
  {
   "cell_type": "markdown",
   "metadata": {},
   "source": [
    "## Principle of Inclusion-Exclusion\n",
    "\n",
    "We define sets $A$, $B$ and notice that $n(A \\cup B) \\not= n(A) +  n(B)$"
   ]
  },
  {
   "cell_type": "code",
   "execution_count": 2,
   "metadata": {},
   "outputs": [
    {
     "name": "stdout",
     "output_type": "stream",
     "text": [
      "4 is the size of the union\n",
      "6 is the len(A) + len(B)\n",
      "These are not equal!\n"
     ]
    }
   ],
   "source": [
    "A = {3,4,5}\n",
    "B = {4,5,6}\n",
    "print(f\"{len(A.union(B))} is the size of the union\")\n",
    "print(f\"{len(A)+len(B)} is the len(A) + len(B)\")\n",
    "print(\"These are not equal!\")\n"
   ]
  },
  {
   "cell_type": "markdown",
   "metadata": {},
   "source": [
    "There is a formula for the size of the union of two sets. This is called the **principle of inclusion-exclusion (PIE)**.\n",
    "\n",
    "$$n(A \\cup B) = n(A) + n(B) - n(A \\cap B)$$\n",
    "\n",
    "We subtract $n(A \\cap B)$ because the elements of the intersection are counted twice - once in $n(A)$, and once in $n(B)$. See that $A \\cap B = \\{4,5\\}$ gets counted in both $A= \\{3,4,5\\}$ and $B=\\{4,5,6\\}$. Using PIE we see that $n(A \\cup B) = 3 + 3 - 2 = 4$"
   ]
  },
  {
   "cell_type": "code",
   "execution_count": 3,
   "metadata": {},
   "outputs": [
    {
     "data": {
      "text/plain": [
       "True"
      ]
     },
     "execution_count": 3,
     "metadata": {},
     "output_type": "execute_result"
    }
   ],
   "source": [
    "len(A.union(B)) == len(A) + len(B) - len(A.intersection(B))"
   ]
  },
  {
   "cell_type": "markdown",
   "metadata": {},
   "source": [
    "### Mutually Exclusive Sets\n",
    "\n",
    "If $A$ and $B$ have no elements in common then $A \\cap B = \\emptyset$ and the sets are said to be **mutually exclusive**.\n",
    "\n",
    "$$A \\text{ and } B \\text{ are mutually exclusive } \\iff A \\cap B = \\emptyset \\iff n(A\\cap B) = 0$$\n",
    "\n",
    "Since $n(A\\cap B) = 0$ the principle of inclusion-exclusion allows us to add up the sizes of the sets.\n",
    "\n",
    "$$\n",
    "\\begin{align*}\n",
    "n(A \\cup B) &= n(A)+n(B)-n(A \\cap B) \\text{ inclusion-exclusion} \\\\ \n",
    "&= n(A)+n(B)-0 \\text{ mutually exclusive}\\\\\n",
    "&= n(A)+n(B)\n",
    "\\end{align*}\n",
    "$$\n",
    "\n"
   ]
  },
  {
   "cell_type": "markdown",
   "metadata": {},
   "source": [
    "### 3 or more sets\n",
    "\n",
    "The principle of inclusion-exclusion for three sets can be determined using our result for two sets.\n",
    "\n",
    "$$\n",
    "\\begin{align*}\n",
    "n(A\\cup (B\\cup C)) &= n(A) + n(B\\cup C) - n(A \\cap (B\\cup C)) \\\\\n",
    "&= n(A) + n(B\\cup C) - n((A \\cap B) \\cup (B \\cap C))\n",
    "\\end{align*}\n",
    "$$\n",
    "\n",
    "Then we expand $n(B\\cup C)$ and $n((A \\cap B) \\cup (B \\cap C))$ using PIE to get the following:\n",
    "\n",
    "$$\n",
    "n(A) + n(B) + n(C) - n(A \\cap B)-n(B \\cap C)-n(C \\cap A) + n(A \\cap B \\cap C)\n",
    "$$\n",
    "\n",
    "Generally, we add the sizes of the individual sets, subtract the sizes of combinations of two sets, add the sizes of combinations of three sets, subtract the size of combinations of four sets, and add the size of combinations of five sets, etc. So this formula works for the union of arbitrary numbers of sets.\n",
    "\n"
   ]
  },
  {
   "cell_type": "markdown",
   "metadata": {},
   "source": [
    "## Multiplication Principle\n",
    "\n",
    "### Tree diagrams\n",
    "\n",
    "* I have a red shirt and a blue shirt.\n",
    "* I have a green hat, a pink hat, and a black hat.\n",
    "\n",
    "How many different shirt/hat combinations can I wear?\n",
    "\n",
    "We can make a **tree diagram** to find that there are 6 combinations.\n",
    "\n",
    "![](./images/02-counting/Tree.PNG)\n",
    "\n",
    "### Cartesian product\n",
    "\n",
    "The set $\\{(a,b)|a \\in A \\text{ and } b \\in B\\}$ is the set of ordered pairs of elements from $A$ and $B$. It has a special name, the **cartesian product**. The notation for this is $A \\times B$.\n",
    "\n",
    "$$A \\times B = \\{(a,b)|a \\in A \\text{ and } b \\in B\\}$$\n",
    "\n",
    "The size of the cartesian product is the product of the sizes of the sets.\n",
    "\n",
    "$$n(A \\times B) = n(A) \\cdot n(B)$$\n",
    "\n",
    "In our previous example with shirts and hats we can think of the set of shirts $S$ and hats $H$, and the set of combinations as the set $S \\times H$, so there are $n(S) \\times n(H) = 3 \\cdot 2 = 6$ combinations."
   ]
  },
  {
   "cell_type": "markdown",
   "metadata": {},
   "source": [
    "### Many independent choices\n",
    "\n",
    "If we are making $n$ independent selections with $a_1, a_2, ..., a_n$ options for our selections the total number of choices is the product of the number of choices for each selection.\n",
    "\n",
    "$$a_1 \\times a_2 \\times ... \\times a_n=\\displaystyle\\prod_{k=1}^{n} a_k$$\n",
    "\n",
    "You can think about this as the cartesian product of many sets. \n",
    "\n",
    "There are two options for each flip of a coin. The number of possible sequences of $4$ coin flips is $\\prod_{k=1}^{4} 2 = 2^4$."
   ]
  },
  {
   "cell_type": "code",
   "execution_count": 4,
   "metadata": {},
   "outputs": [
    {
     "name": "stdout",
     "output_type": "stream",
     "text": [
      "There are 16 sequences\n",
      "The combinations are: \n",
      " ['HHHH', 'THHH', 'HTHH', 'TTHH', 'HHTH', 'THTH', 'HTTH', 'TTTH', 'HHHT', 'THHT', 'HTHT', 'TTHT', 'HHTT', 'THTT', 'HTTT', 'TTTT']\n"
     ]
    }
   ],
   "source": [
    "# Find all sequences of coin flips of length n. We use a list comprehension to generate the new sequences.\n",
    "def coin_flips(n):\n",
    "  sequences = ['']\n",
    "  for i in range(n):\n",
    "    sequences = [seq + 'H' for seq in sequences] + [seq + 'T' for seq in sequences]\n",
    "  return sequences\n",
    "\n",
    "print(f\"There are {len(coin_flips(4))} sequences\")\n",
    "print(f\"The combinations are: \\n {coin_flips(4)}\")"
   ]
  },
  {
   "cell_type": "markdown",
   "metadata": {},
   "source": [
    "It is important that our choices are independent. If I have three shirts and I want to wear two shirts at the same time, I can't wear the same shirt twice. So with my red and blue shirts I can have pairs (red, blue), (blue, red) but not (red, red) or (blue, blue). Let's investigate this."
   ]
  },
  {
   "cell_type": "markdown",
   "metadata": {},
   "source": [
    "## Permutations\n",
    "\n",
    "Permutations rearrange elements of a set into ordered outcomes. How many ways can we order the elements of the set $A = \\{1,2,3\\}$?  Let's draw a tree diagram.\n",
    "\n",
    "![](./images/02-counting/permute3large.PNG)\n",
    "\n",
    "There are three options for our first selection, two options for our second selection, and one option for our third selection. The multiplication principle gives us 6 permutations of the set $\\{1,2,3\\}$. Generally if $n(A) = m$ there are $m \\times (m-1) \\times ... \\times 2 \\times 1 = m!$ permutations of the set $A$.\n",
    "\n",
    "Sometimes permutations are more obvious than others. The possible outcomes in a three person race are obviously a permutation because we are ordering a set. But order isn't always involved. How many ways can I give three candy bars to my three friends? I have $3$ options for the first candy bar, $2$ options for the second, and $1$ option for the third. If I gave away all the candy bars at the same time there is no sense of \"ordering\" but still this is a permutation.\n"
   ]
  },
  {
   "cell_type": "code",
   "execution_count": 5,
   "metadata": {},
   "outputs": [
    {
     "name": "stdout",
     "output_type": "stream",
     "text": [
      "The return type of itertools.permutations is <class 'itertools.permutations'>\n",
      "Permutation 1 is (1, 2, 3)\n",
      "Permutation 2 is (1, 3, 2)\n",
      "The permutations of [1,2,3] are: \n",
      " [(2, 1, 3), (2, 3, 1), (3, 1, 2), (3, 2, 1)]\n"
     ]
    }
   ],
   "source": [
    "import itertools\n",
    "\n",
    "# We can use the itertools.permutations() function from the Python standard library\n",
    "permutationsGenerator = itertools.permutations([1,2,3])\n",
    "\n",
    "# The return type of itertools.permutations() is a generator. \n",
    "# Python will not store all the values in memory, but instead will generate them one at a time.\n",
    "print(f\"The return type of itertools.permutations is {type(permutationsGenerator)}\")\n",
    "\n",
    "# You can use next() to get the next permutation.\n",
    "print(f\"Permutation 1 is {next(permutationsGenerator)}\")\n",
    "print(f\"Permutation 2 is {next(permutationsGenerator)}\")\n",
    "\n",
    "# We can convert the generator to a list and print them.\n",
    "permutations = list(permutationsGenerator)\n",
    "print(f\"The permutations of [1,2,3] are: \\n {permutations}\")\n",
    "\n",
    "# We can write our own function too.\n",
    "def generatePermutations(nums: list[int]) -> list[list[int]]:\n",
    "  if len(nums) == 0:\n",
    "    return [[]]\n",
    "  else:\n",
    "    permutations = []\n",
    "    for i in range(len(nums)):\n",
    "      permutations += [[nums[i]] + p for p in generatePermutations(nums[:i] + nums[i+1:])]\n",
    "    return permutations"
   ]
  },
  {
   "cell_type": "markdown",
   "metadata": {},
   "source": [
    "### k-permutations of n elements\n",
    "\n",
    "In a $10$ person race how many possible outcomes are there for the top $3$?\n",
    "\n",
    "There are $10$ options for first place, $9$ options for second place, and $8$ options for third place. The answer is $10 \\cdot 9 \\cdot 8 = 720$. The general formula for the top $k$ racers in an $n$ person race is:\n",
    "\n",
    "$$n \\times (n-1) \\times ... \\times (n-k+1) = \\frac{n!}{(n-k)!}$$\n",
    "\n",
    "The notation for this is $P(n,k) = \\frac{n!}{(n-k)!}$. $P(n,k)$ is pronounced \"$n$ permute $k$\"."
   ]
  },
  {
   "cell_type": "code",
   "execution_count": 6,
   "metadata": {},
   "outputs": [
    {
     "name": "stdout",
     "output_type": "stream",
     "text": [
      "2-permutations of 3 items: [(1, 2), (1, 3), (2, 1), (2, 3), (3, 1), (3, 2)]\n"
     ]
    }
   ],
   "source": [
    "# The second argument is the number of items to choose from.\n",
    "permutations = itertools.permutations([1,2,3], 2)\n",
    "print(f\"2-permutations of 3 items: {list(permutations)}\")"
   ]
  },
  {
   "cell_type": "markdown",
   "metadata": {},
   "source": [
    "## Combinations\n",
    "\n",
    "How many ways can I pick $2$ numbers from the set $\\{1,2,3\\}$? We have 3 options for the first person, 2 options for the second person, so the answer is $6$? **Wrong**, because this assumes that order is important. The order is not important so the pairs $(1,2)$ and $(2,1)$ are the same. This changes our answer to $3$.\n",
    "\n",
    "![](./images/02-counting/P(3,2)vsC(3,2).PNG)\n",
    "\n",
    "The difference between permutations and combinations is that combinations don't have an order. So there are $2$ permutations for every combination in the previous example. If we chose $3$ numbers there are $3! = 6$ permutations and $1$ combination. In general we see that $P(n,k) = C(n,k) \\cdot k!$. Solving for $C(n,k)$ we get:\n",
    "\n",
    "$$C(n,k) = \\frac{P(n,k)}{k!} = \\frac{n!}{k!(n-k)!}$$"
   ]
  },
  {
   "cell_type": "code",
   "execution_count": 7,
   "metadata": {},
   "outputs": [
    {
     "name": "stdout",
     "output_type": "stream",
     "text": [
      "2-combinations of 3 items: [(1, 2), (1, 3), (2, 3)]\n"
     ]
    }
   ],
   "source": [
    "# We use itertools.combinations()\n",
    "combinations = itertools.combinations([1,2,3], 2)\n",
    "print(f\"2-combinations of 3 items: {list(combinations)}\")\n",
    "\n",
    "# We can also write our own function.\n",
    "def combine(n, k):\n",
    "  if k == 0:\n",
    "    return [[]]\n",
    "  else:\n",
    "    return [p + [i] for i in range(k, n+1) for p in combine(i-1, k-1)]\n",
    "\n"
   ]
  },
  {
   "cell_type": "markdown",
   "metadata": {},
   "source": [
    "## Variations\n",
    "\n",
    "Problems can involve several of the previous principles.\n",
    "\n",
    "### Piggies and markets\n",
    "\n",
    "There is a set of $9$ distinct pigs. Three go to the market, three go to Arby's, and three go home. How many ways can this happen?\n",
    "\n",
    "There are $9 \\choose 3$ ways to select the piggies for the market. After that selection is made there are $6 \\choose 3$ ways to select the piggies for Arby's. The remaining three piggies go home. The answer is then: \n",
    "\n",
    "$${9 \\choose 3}{6 \\choose 3}{3 \\choose 3} = \\frac{9!}{3!6!}\\cdot \\frac{6!}{3!3!} \\cdot \\frac{3!}{3!0!} = \\frac{9!}{3!3!3!}$$ \n",
    "\n",
    "There is a general principle at work here. If we divide a set into mutually exclusive subsets then the number on the top is the size of the set and the numbers on the bottom are the size of the subsets. Verify that this is true for dividing a set into two sets (hint: it is just the formula for combinations).\n",
    "\n",
    "We can rephrase the piggies question as \"How many ways can you rearrange the letters of 'aaabbbccc'?\" To see that these questions are the same let each position of the letter be a piggy and assign the market, Arby's, and home to the letters a, b, and c. Select positions in groups of three to assign the letters to.\n",
    "\n",
    "### We love math problems\n",
    "\n",
    "How many ways could I rank my 10 favorite math problems from a list of 20 and then do 5 of them? There are $P(20,10)$ possible rankings of my top 10 problems. There are $10 \\choose 5$ ways to choose from the selected problems. The answer is then:\n",
    "\n",
    "$$P(20,10)\\times{10 \\choose 5} = 168,951,528,345,600$$\n",
    "\n"
   ]
  }
 ],
 "metadata": {
  "interpreter": {
   "hash": "e078b65246bddf23fe80e9015d01852bc21b7ba282a85daeab1bb9d0b2217f28"
  },
  "kernelspec": {
   "display_name": "Python 3.9.7 64-bit ('probability-with-python-MkUINhBm-py3.9': poetry)",
   "name": "python3"
  },
  "language_info": {
   "codemirror_mode": {
    "name": "ipython",
    "version": 3
   },
   "file_extension": ".py",
   "mimetype": "text/x-python",
   "name": "python",
   "nbconvert_exporter": "python",
   "pygments_lexer": "ipython3",
   "version": "3.9.7"
  }
 },
 "nbformat": 4,
 "nbformat_minor": 2
}